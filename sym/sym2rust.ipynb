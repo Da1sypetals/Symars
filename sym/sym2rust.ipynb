{
 "cells": [
  {
   "cell_type": "code",
   "execution_count": 1,
   "metadata": {},
   "outputs": [],
   "source": [
    "import sympy as sp\n",
    "from symars.uni import SymarsUni\n",
    "from symars.meta import DType\n",
    "\n",
    "# Define many symbolic variables\n",
    "a, b, c, d, e, f, g, h = sp.symbols(\"a b c d e f g h\")\n",
    "\n",
    "# Create an instance of Symars with F64 and debugging enabled\n",
    "symars = SymarsUni(DType.F64, debug=False)\n",
    "\n",
    "# Test cases\n",
    "test_cases = {\n",
    "    \"Trigonometric Functions\": sp.sin(a) + sp.cos(b) * sp.tan(c),\n",
    "    \"Hyperbolic Functions\": sp.sinh(d) + sp.cosh(e) - sp.tanh(f),\n",
    "    \"Inverse Trigonometric\": sp.asin(a) + sp.acos(b) - sp.atan2(c, d),\n",
    "    \"Logarithmic and Exponential\": sp.log(a) * sp.exp(b) + sp.log(c + d),\n",
    "    \"Floor and Ceiling\": sp.floor(a + b) + sp.ceiling(c - d),\n",
    "    \"Power Integer and Fraction\": a**2 + b**0.5 + c**-1,\n",
    "    \"Min and Max\": sp.Min(a, b) + sp.Max(c, d),\n",
    "    \"Signum Function\": sp.sign(a - b) - sp.sign(c + d),\n",
    "    \"Arithmetic and Literals\": (3.5 * a - 7) + (4 + 2 * b),\n",
    "    \"Nested Expressions\": sp.sin(sp.log(a)) + sp.exp(sp.sqrt(b)) - sp.tanh(sp.cosh(c)),\n",
    "    \"Complex Nested Power\": ((a + b) ** 2 * sp.exp(c)) ** 0.5 + d ** (e + f),\n",
    "    \"Combinations of All\": sp.Min(sp.log(a + b), sp.sin(c))\n",
    "    + sp.Max(sp.exp(d), sp.cos(e)),\n",
    "    \"Large Symbolic Mix\": (a + b - c) * (d / e) + sp.log(f * g - h) - sp.exp(a + h),\n",
    "}\n",
    "\n",
    "# Execute and print Rust code for each test case\n",
    "# for name, expr in test_cases.items():\n",
    "#     print(f\"Test Case: {name}\")\n",
    "#     rust_code = symars.generate_func(\"compute\", expr)\n",
    "#     print(rust_code)\n",
    "\n",
    "# TODO: select your favorite expression\n",
    "exprname = \"Trigonometric Functions\"\n",
    "expr = test_cases[exprname]\n",
    "rust_code = symars.generate_func(exprname.replace(\" \", \"_\").lower(), expr)\n",
    "with open(\"../src/sym/gen_uni.rs\", \"w\") as f:\n",
    "    f.write(rust_code)\n"
   ]
  },
  {
   "cell_type": "markdown",
   "metadata": {},
   "source": [
    "### Test cases"
   ]
  },
  {
   "cell_type": "code",
   "execution_count": null,
   "metadata": {},
   "outputs": [],
   "source": [
    "import sympy as sp\n",
    "from symars.uni import SymarsUni, DType\n",
    "\n",
    "# Define symbolic variables\n",
    "x, y = sp.symbols(\"x y\")\n",
    "\n",
    "# Create an instance of Symars with F64 (floating point)\n",
    "symars = SymarsUni(DType.F64)\n",
    "\n",
    "# Example expressions\n",
    "expressions = {\n",
    "    \"Addition\": x + y,\n",
    "    \"Multiplication\": x * y,\n",
    "    \"Power Float\": x**2.5,\n",
    "    \"Power Float sqrt\": x**0.5,\n",
    "    \"Power Integer\": x**3,\n",
    "    \"Square Root\": sp.sqrt(x),\n",
    "    \"Logarithm\": sp.log(x),\n",
    "    \"Exponentiation\": sp.exp(x),\n",
    "    \"Sine\": sp.sin(x),\n",
    "    \"Cosine\": sp.cos(x),\n",
    "}\n",
    "\n",
    "# Translate each expression to Rust code\n",
    "for name, expr in expressions.items():\n",
    "    rust_code = symars.generate_func(\"compute\", expr)\n",
    "    print(f\"{name}: {rust_code}\")\n"
   ]
  },
  {
   "cell_type": "code",
   "execution_count": null,
   "metadata": {},
   "outputs": [],
   "source": [
    "expr1 = (x + y + 1) ** 2 * x**3 + x ** (\n",
    "    y + 2\n",
    ")  # Complex combination of power, multiplication, and addition\n",
    "\n",
    "expr = expr1\n",
    "symars = SymarsUni(DType.F64)\n",
    "code = symars.generate_func(\"compute\", expr)\n",
    "print(code)"
   ]
  },
  {
   "cell_type": "code",
   "execution_count": null,
   "metadata": {},
   "outputs": [],
   "source": [
    "expr2 = sp.exp(sp.sqrt(x + 1)) + sp.log(x + y)  # Combination of exp, sqrt, and log\n",
    "\n",
    "\n",
    "expr = expr2\n",
    "symars = SymarsUni(DType.F64)\n",
    "code = symars.generate_func(\"compute\", expr)\n",
    "print(code)"
   ]
  },
  {
   "cell_type": "code",
   "execution_count": null,
   "metadata": {},
   "outputs": [],
   "source": [
    "expr3 = sp.sin(x) * sp.cosh(y) + sp.tanh(x + y)  # Sine * Cosh + Tanh\n",
    "\n",
    "\n",
    "expr = expr3\n",
    "symars = SymarsUni(DType.F64)\n",
    "code = symars.generate_func(\"compute\", expr)\n",
    "print(code)"
   ]
  },
  {
   "cell_type": "code",
   "execution_count": null,
   "metadata": {},
   "outputs": [],
   "source": [
    "expr4 = sp.log(x**2) + sp.Pow(x, y)  # Log of x^2 + x^y\n",
    "expr = expr4\n",
    "symars = SymarsUni(DType.F64)\n",
    "code = symars.generate_func(\"compute\", expr)\n",
    "print(code)"
   ]
  },
  {
   "cell_type": "code",
   "execution_count": null,
   "metadata": {},
   "outputs": [],
   "source": [
    "expr5 = sp.Min(x + y, x - y) * sp.Max(x, y) - sp.sign(\n",
    "    x\n",
    ")  # Min and Max functions with signum\n",
    "expr = expr5\n",
    "symars = SymarsUni(DType.F64)\n",
    "code = symars.generate_func(\"compute\", expr)\n",
    "print(code)"
   ]
  },
  {
   "cell_type": "code",
   "execution_count": null,
   "metadata": {},
   "outputs": [],
   "source": [
    "expr6 = sp.sin(x) ** 2 + sp.cos(x) ** 2.1  # Pythagorean identity: sin^2(x) + cos^2(x)\n",
    "expr = expr6\n",
    "\n",
    "symars = SymarsUni(DType.F64)\n",
    "code = symars.generate_func(\"compute\", expr)\n",
    "print(code)"
   ]
  },
  {
   "cell_type": "code",
   "execution_count": null,
   "metadata": {},
   "outputs": [],
   "source": [
    "expr7 = x**4 + x**-2  # Integer powers, should use powi\n",
    "expr = expr7\n",
    "\n",
    "symars = SymarsUni(DType.F64)\n",
    "code = symars.generate_func(\"compute\", expr)\n",
    "print(code)"
   ]
  },
  {
   "cell_type": "code",
   "execution_count": null,
   "metadata": {},
   "outputs": [],
   "source": [
    "expr8 = (x + y) ** 2 + (x - y) ** 2 + (x * y) ** 3  # Complex arithmetic operations\n",
    "expr = expr8\n",
    "\n",
    "symars = SymarsUni(DType.F64)\n",
    "code = symars.generate_func(\"compute\", expr)\n",
    "print(code)"
   ]
  },
  {
   "cell_type": "code",
   "execution_count": null,
   "metadata": {},
   "outputs": [],
   "source": [
    "expr9 = sp.log(sp.exp(x)) + x ** (sp.log(y))  # Log(exp(x)) + x^log(y)\n",
    "expr = expr9\n",
    "\n",
    "symars = SymarsUni(DType.F64)\n",
    "code = symars.generate_func(\"compute\", expr)\n",
    "print(code)"
   ]
  },
  {
   "cell_type": "code",
   "execution_count": null,
   "metadata": {},
   "outputs": [],
   "source": []
  },
  {
   "cell_type": "code",
   "execution_count": null,
   "metadata": {},
   "outputs": [],
   "source": []
  }
 ],
 "metadata": {
  "kernelspec": {
   "display_name": "playground",
   "language": "python",
   "name": "python3"
  },
  "language_info": {
   "codemirror_mode": {
    "name": "ipython",
    "version": 3
   },
   "file_extension": ".py",
   "mimetype": "text/x-python",
   "name": "python",
   "nbconvert_exporter": "python",
   "pygments_lexer": "ipython3",
   "version": "3.10.13"
  }
 },
 "nbformat": 4,
 "nbformat_minor": 2
}
