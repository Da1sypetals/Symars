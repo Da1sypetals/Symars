{
 "cells": [
  {
   "cell_type": "code",
   "execution_count": 1,
   "metadata": {},
   "outputs": [],
   "source": [
    "import sympy as sp\n",
    "import random\n",
    "\n",
    "# 定义符号\n",
    "a, b, c, d, e, f, g, h = sp.symbols(\"a b c d e f g h\")\n",
    "\n",
    "# 测试用例\n",
    "test_cases = {\n",
    "    \"Trigonometric Functions\": sp.sin(a) + sp.cos(b) * sp.tan(c),\n",
    "    \"Hyperbolic Functions\": sp.sinh(d) + sp.cosh(e) - sp.tanh(f),\n",
    "    \"Inverse Trigonometric\": sp.asin(a) + sp.acos(b) - sp.atan2(c, d),\n",
    "    \"Logarithmic and Exponential\": sp.log(a) * sp.exp(b) + sp.log(c + d),\n",
    "    \"Floor and Ceiling\": sp.floor(a + b) + sp.ceiling(c - d),\n",
    "    \"Power Integer and Fraction\": a**2 + b**0.5 + c**-1,\n",
    "    \"Min and Max\": sp.Min(a, b) + sp.Max(c, d),\n",
    "    \"Signum Function\": sp.sign(a - b) - sp.sign(c + d),\n",
    "    \"Arithmetic and Literals\": (3.5 * a - 7) + (4 + 2 * b),\n",
    "    \"Nested Expressions\": sp.sin(sp.log(a)) + sp.exp(sp.sqrt(b)) - sp.tanh(sp.cosh(c)),\n",
    "    \"Complex Nested Power\": ((a + b) ** 2 * sp.exp(c)) ** 0.5 + d ** (e + f),\n",
    "    \"Combinations of All\": sp.Min(sp.log(a + b), sp.sin(c))\n",
    "    + sp.Max(sp.exp(d), sp.cos(e)),\n",
    "    \"Large Symbolic Mix\": (a + b - c) * (d / e) + sp.log(f * g - h) - sp.exp(a + h),\n",
    "}\n",
    "\n",
    "# 随机选择 9 个键\n",
    "selected_keys = random.sample(list(test_cases.keys()), 9)\n",
    "\n",
    "# 根据选择的键提取表达式\n",
    "selected_expressions = [test_cases[key] for key in selected_keys]\n",
    "\n",
    "# 创建 SymPy 矩阵\n",
    "matrix = sp.Matrix(selected_expressions).reshape(3, 3)\n",
    "matrix[1, 0] = 0\n",
    "matrix[1, 1] = 1\n",
    "\n",
    "# 生成代码\n",
    "from symars.nalgebra import SymarsNalgebra\n",
    "from symars.meta import DType\n",
    "\n",
    "dense = SymarsNalgebra(DType.F64)\n",
    "impl = dense.generate(matrix, \"test_matrix\")\n",
    "\n",
    "with open(\"../src/sym/gen_mat.rs\", \"w\") as f:\n",
    "    f.write(impl)"
   ]
  },
  {
   "cell_type": "code",
   "execution_count": null,
   "metadata": {},
   "outputs": [],
   "source": []
  },
  {
   "cell_type": "code",
   "execution_count": null,
   "metadata": {},
   "outputs": [],
   "source": []
  },
  {
   "cell_type": "code",
   "execution_count": null,
   "metadata": {},
   "outputs": [],
   "source": []
  },
  {
   "cell_type": "code",
   "execution_count": null,
   "metadata": {},
   "outputs": [],
   "source": []
  },
  {
   "cell_type": "code",
   "execution_count": null,
   "metadata": {},
   "outputs": [],
   "source": []
  },
  {
   "cell_type": "code",
   "execution_count": null,
   "metadata": {},
   "outputs": [],
   "source": []
  },
  {
   "cell_type": "code",
   "execution_count": null,
   "metadata": {},
   "outputs": [],
   "source": []
  },
  {
   "cell_type": "code",
   "execution_count": null,
   "metadata": {},
   "outputs": [],
   "source": []
  },
  {
   "cell_type": "code",
   "execution_count": null,
   "metadata": {},
   "outputs": [],
   "source": []
  },
  {
   "cell_type": "code",
   "execution_count": null,
   "metadata": {},
   "outputs": [],
   "source": []
  },
  {
   "cell_type": "code",
   "execution_count": null,
   "metadata": {},
   "outputs": [],
   "source": []
  },
  {
   "cell_type": "code",
   "execution_count": null,
   "metadata": {},
   "outputs": [],
   "source": []
  },
  {
   "cell_type": "code",
   "execution_count": null,
   "metadata": {},
   "outputs": [],
   "source": []
  },
  {
   "cell_type": "code",
   "execution_count": null,
   "metadata": {},
   "outputs": [],
   "source": []
  },
  {
   "cell_type": "code",
   "execution_count": null,
   "metadata": {},
   "outputs": [],
   "source": []
  },
  {
   "cell_type": "code",
   "execution_count": null,
   "metadata": {},
   "outputs": [],
   "source": []
  },
  {
   "cell_type": "code",
   "execution_count": null,
   "metadata": {},
   "outputs": [],
   "source": []
  },
  {
   "cell_type": "code",
   "execution_count": null,
   "metadata": {},
   "outputs": [],
   "source": []
  },
  {
   "cell_type": "code",
   "execution_count": null,
   "metadata": {},
   "outputs": [],
   "source": []
  }
 ],
 "metadata": {
  "kernelspec": {
   "display_name": "playground",
   "language": "python",
   "name": "python3"
  },
  "language_info": {
   "codemirror_mode": {
    "name": "ipython",
    "version": 3
   },
   "file_extension": ".py",
   "mimetype": "text/x-python",
   "name": "python",
   "nbconvert_exporter": "python",
   "pygments_lexer": "ipython3",
   "version": "3.10.13"
  }
 },
 "nbformat": 4,
 "nbformat_minor": 2
}
