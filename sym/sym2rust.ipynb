{
 "cells": [
  {
   "cell_type": "code",
   "execution_count": null,
   "metadata": {},
   "outputs": [
    {
     "name": "stdout",
     "output_type": "stream",
     "text": [
      "Addition: (x) + (y)\n",
      "Multiplication: (x) * (y)\n",
      "Power Float: (x).powf(2.50000000000000_f64)\n",
      "Power Float sqrt: (x).sqrt()\n",
      "Power Integer: (x).powi(3)\n",
      "Square Root: (x).sqrt()\n",
      "Logarithm: (x).ln()\n",
      "Exponentiation: (x).exp()\n",
      "Sine: (x).sin()\n",
      "Cosine: (x).cos()\n"
     ]
    }
   ],
   "source": [
    "import sympy as sp\n",
    "from uni import SymarsUni, DType\n",
    "\n",
    "# Define symbolic variables\n",
    "x, y = sp.symbols(\"x y\")\n",
    "\n",
    "# Create an instance of Symars with F64 (floating point)\n",
    "symars = SymarsUni(DType.F64)\n",
    "\n",
    "# Example expressions\n",
    "expressions = {\n",
    "    \"Addition\": x + y,\n",
    "    \"Multiplication\": x * y,\n",
    "    \"Power Float\": x**2.5,\n",
    "    \"Power Float sqrt\": x**0.5,\n",
    "    \"Power Integer\": x**3,\n",
    "    \"Square Root\": sp.sqrt(x),\n",
    "    \"Logarithm\": sp.log(x),\n",
    "    \"Exponentiation\": sp.exp(x),\n",
    "    \"Sine\": sp.sin(x),\n",
    "    \"Cosine\": sp.cos(x),\n",
    "}\n",
    "\n",
    "# Translate each expression to Rust code\n",
    "for name, expr in expressions.items():\n",
    "    rust_code = symars.sympy_to_rust(expr)\n",
    "    print(f\"{name}: {rust_code}\")\n"
   ]
  },
  {
   "cell_type": "code",
   "execution_count": 2,
   "metadata": {},
   "outputs": [
    {
     "name": "stdout",
     "output_type": "stream",
     "text": [
      "((x).powf((2_f64) + (y))) + (((x).powi(3)) * (((1_f64) + (x) + (y)).powi(2)))\n"
     ]
    }
   ],
   "source": [
    "expr1 = (x + y + 1) ** 2 * x**3 + x ** (\n",
    "    y + 2\n",
    ")  # Complex combination of power, multiplication, and addition\n",
    "\n",
    "expr = expr1\n",
    "symars = SymarsUni(DType.F64)\n",
    "code = symars.sympy_to_rust(expr)\n",
    "print(code)"
   ]
  },
  {
   "cell_type": "code",
   "execution_count": 3,
   "metadata": {},
   "outputs": [
    {
     "name": "stdout",
     "output_type": "stream",
     "text": [
      "((((1_f64) + (x)).sqrt()).exp()) + (((x) + (y)).ln())\n"
     ]
    }
   ],
   "source": [
    "expr2 = sp.exp(sp.sqrt(x + 1)) + sp.log(x + y)  # Combination of exp, sqrt, and log\n",
    "\n",
    "\n",
    "expr = expr2\n",
    "symars = SymarsUni(DType.F64)\n",
    "code = symars.sympy_to_rust(expr)\n",
    "print(code)"
   ]
  },
  {
   "cell_type": "code",
   "execution_count": 4,
   "metadata": {},
   "outputs": [
    {
     "name": "stdout",
     "output_type": "stream",
     "text": [
      "(((y).cosh()) * ((x).sin())) + (((x) + (y)).tanh())\n"
     ]
    }
   ],
   "source": [
    "expr3 = sp.sin(x) * sp.cosh(y) + sp.tanh(x + y)  # Sine * Cosh + Tanh\n",
    "\n",
    "\n",
    "expr = expr3\n",
    "symars = SymarsUni(DType.F64)\n",
    "code = symars.sympy_to_rust(expr)\n",
    "print(code)"
   ]
  },
  {
   "cell_type": "code",
   "execution_count": 5,
   "metadata": {},
   "outputs": [
    {
     "name": "stdout",
     "output_type": "stream",
     "text": [
      "((x).powf(y)) + (((x).powi(2)).ln())\n"
     ]
    }
   ],
   "source": [
    "expr4 = sp.log(x**2) + sp.Pow(x, y)  # Log of x^2 + x^y\n",
    "expr = expr4\n",
    "symars = SymarsUni(DType.F64)\n",
    "code = symars.sympy_to_rust(expr)\n",
    "print(code)"
   ]
  },
  {
   "cell_type": "code",
   "execution_count": 6,
   "metadata": {},
   "outputs": [
    {
     "name": "stdout",
     "output_type": "stream",
     "text": [
      "((-1_f64) * ((x).signum())) + (((x).max(y)) * (((x) + (y)).min((x) + ((-1_f64) * (y)))))\n"
     ]
    }
   ],
   "source": [
    "expr5 = sp.Min(x + y, x - y) * sp.Max(x, y) - sp.sign(\n",
    "    x\n",
    ")  # Min and Max functions with signum\n",
    "expr = expr5\n",
    "symars = SymarsUni(DType.F64)\n",
    "code = symars.sympy_to_rust(expr)\n",
    "print(code)"
   ]
  },
  {
   "cell_type": "code",
   "execution_count": 7,
   "metadata": {},
   "outputs": [
    {
     "name": "stdout",
     "output_type": "stream",
     "text": [
      "(((x).cos()).powf(2.10000000000000_f64)) + (((x).sin()).powi(2))\n"
     ]
    }
   ],
   "source": [
    "expr6 = sp.sin(x) ** 2 + sp.cos(x) ** 2.1  # Pythagorean identity: sin^2(x) + cos^2(x)\n",
    "expr = expr6\n",
    "\n",
    "symars = SymarsUni(DType.F64)\n",
    "code = symars.sympy_to_rust(expr)\n",
    "print(code)"
   ]
  },
  {
   "cell_type": "code",
   "execution_count": 8,
   "metadata": {},
   "outputs": [
    {
     "name": "stdout",
     "output_type": "stream",
     "text": [
      "((x).powi(-2)) + ((x).powi(4))\n"
     ]
    }
   ],
   "source": [
    "expr7 = x**4 + x**-2  # Integer powers, should use powi\n",
    "expr = expr7\n",
    "\n",
    "symars = SymarsUni(DType.F64)\n",
    "code = symars.sympy_to_rust(expr)\n",
    "print(code)"
   ]
  },
  {
   "cell_type": "code",
   "execution_count": 9,
   "metadata": {},
   "outputs": [
    {
     "name": "stdout",
     "output_type": "stream",
     "text": [
      "(((x) + (y)).powi(2)) + (((x) + ((-1_f64) * (y))).powi(2)) + (((x).powi(3)) * ((y).powi(3)))\n"
     ]
    }
   ],
   "source": [
    "expr8 = (x + y) ** 2 + (x - y) ** 2 + (x * y) ** 3  # Complex arithmetic operations\n",
    "expr = expr8\n",
    "\n",
    "symars = SymarsUni(DType.F64)\n",
    "code = symars.sympy_to_rust(expr)\n",
    "print(code)"
   ]
  },
  {
   "cell_type": "code",
   "execution_count": 10,
   "metadata": {},
   "outputs": [
    {
     "name": "stdout",
     "output_type": "stream",
     "text": [
      "((x).powf((y).ln())) + (((x).exp()).ln())\n"
     ]
    }
   ],
   "source": [
    "expr9 = sp.log(sp.exp(x)) + x ** (sp.log(y))  # Log(exp(x)) + x^log(y)\n",
    "expr = expr9\n",
    "\n",
    "symars = SymarsUni(DType.F64)\n",
    "code = symars.sympy_to_rust(expr)\n",
    "print(code)"
   ]
  },
  {
   "cell_type": "code",
   "execution_count": 11,
   "metadata": {},
   "outputs": [
    {
     "name": "stdout",
     "output_type": "stream",
     "text": [
      "Test Case: Trigonometric Functions\n",
      "(((b).cos()) * ((c).tan())) + ((a).sin())\n",
      "\n",
      "Test Case: Hyperbolic Functions\n",
      "((-1_f64) * ((f).tanh())) + ((e).cosh()) + ((d).sinh())\n",
      "\n",
      "Test Case: Inverse Trigonometric\n",
      "((-1_f64) * ((d).atan2(c))) + ((b).acos()) + ((a).asin())\n",
      "\n",
      "Test Case: Logarithmic and Exponential\n",
      "(((b).exp()) * ((a).ln())) + (((c) + (d)).ln())\n",
      "\n",
      "Test Case: Floor and Ceiling\n",
      "(((c) + ((-1_f64) * (d))).ceil()) + (((a) + (b)).floor())\n",
      "\n",
      "Test Case: Power Integer and Fraction\n",
      "((a).powi(2)) + ((b).sqrt()) + ((c).recip())\n",
      "\n",
      "Test Case: Min and Max\n",
      "((c).max(d)) + ((a).min(b))\n",
      "\n",
      "Test Case: Signum Function\n",
      "((-1_f64) * (((c) + (d)).signum())) + (((a) + ((-1_f64) * (b))).signum())\n",
      "\n",
      "Test Case: Arithmetic and Literals\n",
      "(-3_f64) + ((2_f64) * (b)) + ((3.50000000000000_f64) * (a))\n",
      "\n",
      "Test Case: Nested Expressions\n",
      "((-1_f64) * (((c).cosh()).tanh())) + (((b).sqrt()).exp()) + (((a).ln()).sin())\n",
      "\n",
      "Test Case: Complex Nested Power\n",
      "((d).powf((e) + (f))) + (((((a) + (b)).powi(2)) * ((c).exp())).sqrt())\n",
      "\n",
      "Test Case: Combinations of All\n",
      "(((d).exp()).max((e).cos())) + (((c).sin()).min(((a) + (b)).ln()))\n",
      "\n",
      "Test Case: Large Symbolic Mix\n",
      "((-1_f64) * (((a) + (h)).exp())) + ((d) * ((e).recip()) * ((a) + (b) + ((-1_f64) * (c)))) + ((((-1_f64) * (h)) + ((f) * (g))).ln())\n",
      "\n"
     ]
    }
   ],
   "source": [
    "# Define many symbolic variables\n",
    "a, b, c, d, e, f, g, h = sp.symbols(\"a b c d e f g h\")\n",
    "\n",
    "# Create an instance of Symars with F64 and debugging enabled\n",
    "symars = SymarsUni(DType.F64, debug=False)\n",
    "\n",
    "# Test cases\n",
    "test_cases = {\n",
    "    \"Trigonometric Functions\": sp.sin(a) + sp.cos(b) * sp.tan(c),\n",
    "    \"Hyperbolic Functions\": sp.sinh(d) + sp.cosh(e) - sp.tanh(f),\n",
    "    \"Inverse Trigonometric\": sp.asin(a) + sp.acos(b) - sp.atan2(c, d),\n",
    "    \"Logarithmic and Exponential\": sp.log(a) * sp.exp(b) + sp.log(c + d),\n",
    "    \"Floor and Ceiling\": sp.floor(a + b) + sp.ceiling(c - d),\n",
    "    \"Power Integer and Fraction\": a**2 + b**0.5 + c**-1,\n",
    "    \"Min and Max\": sp.Min(a, b) + sp.Max(c, d),\n",
    "    \"Signum Function\": sp.sign(a - b) - sp.sign(c + d),\n",
    "    \"Arithmetic and Literals\": (3.5 * a - 7) + (4 + 2 * b),\n",
    "    \"Nested Expressions\": sp.sin(sp.log(a)) + sp.exp(sp.sqrt(b)) - sp.tanh(sp.cosh(c)),\n",
    "    \"Complex Nested Power\": ((a + b) ** 2 * sp.exp(c)) ** 0.5 + d ** (e + f),\n",
    "    \"Combinations of All\": sp.Min(sp.log(a + b), sp.sin(c))\n",
    "    + sp.Max(sp.exp(d), sp.cos(e)),\n",
    "    \"Large Symbolic Mix\": (a + b - c) * (d / e) + sp.log(f * g - h) - sp.exp(a + h),\n",
    "}\n",
    "\n",
    "# Execute and print Rust code for each test case\n",
    "for name, expr in test_cases.items():\n",
    "    print(f\"Test Case: {name}\")\n",
    "    rust_code = symars.sympy_to_rust(expr)\n",
    "    print(rust_code)\n",
    "    print()\n"
   ]
  },
  {
   "cell_type": "code",
   "execution_count": 12,
   "metadata": {},
   "outputs": [
    {
     "data": {
      "text/plain": [
       "'(a) * (b) * ((c).powf(0.400000000000000_f64)) * ((d).sqrt())'"
      ]
     },
     "execution_count": 12,
     "metadata": {},
     "output_type": "execute_result"
    }
   ],
   "source": [
    "expr = a**2 + b**0.5 + c**-1\n",
    "\n",
    "expr = a * b * c**0.4 * d**0.5\n",
    "\n",
    "symars.sympy_to_rust(expr)"
   ]
  },
  {
   "cell_type": "code",
   "execution_count": null,
   "metadata": {},
   "outputs": [],
   "source": []
  },
  {
   "cell_type": "code",
   "execution_count": null,
   "metadata": {},
   "outputs": [],
   "source": []
  }
 ],
 "metadata": {
  "kernelspec": {
   "display_name": "playground",
   "language": "python",
   "name": "python3"
  },
  "language_info": {
   "codemirror_mode": {
    "name": "ipython",
    "version": 3
   },
   "file_extension": ".py",
   "mimetype": "text/x-python",
   "name": "python",
   "nbconvert_exporter": "python",
   "pygments_lexer": "ipython3",
   "version": "3.10.13"
  }
 },
 "nbformat": 4,
 "nbformat_minor": 2
}
